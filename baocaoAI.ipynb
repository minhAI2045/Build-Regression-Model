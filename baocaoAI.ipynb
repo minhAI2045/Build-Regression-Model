{
 "cells": [
  {
   "cell_type": "code",
   "execution_count": 2,
   "metadata": {},
   "outputs": [],
   "source": [
    "import pandas as pd\n",
    "import seaborn as sn\n",
    "import matplotlib.pyplot as plt\n",
    "from sklearn.model_selection import train_test_split\n",
    "from sklearn.impute import SimpleImputer\n",
    "from sklearn.pipeline import Pipeline\n",
    "from sklearn.preprocessing import StandardScaler,OrdinalEncoder, OneHotEncoder\n",
    "from sklearn.compose import ColumnTransformer\n",
    "from lazypredict.Supervised import LazyRegressor\n",
    "from sklearn.ensemble import RandomForestRegressor\n",
    "from sklearn.metrics import mean_absolute_error, mean_squared_error, r2_score\n",
    "from sklearn.linear_model import LinearRegression\n",
    "from sklearn.svm import SVR\n",
    "from sklearn.model_selection import GridSearchCV, RandomizedSearchCV\n",
    "from sklearn.neighbors import KNeighborsRegressor"
   ]
  },
  {
   "cell_type": "code",
   "execution_count": 3,
   "metadata": {},
   "outputs": [
    {
     "name": "stdout",
     "output_type": "stream",
     "text": [
      "<class 'pandas.core.frame.DataFrame'>\n",
      "RangeIndex: 1000 entries, 0 to 999\n",
      "Data columns (total 8 columns):\n",
      " #   Column                       Non-Null Count  Dtype \n",
      "---  ------                       --------------  ----- \n",
      " 0   gender                       1000 non-null   object\n",
      " 1   race/ethnicity               1000 non-null   object\n",
      " 2   parental level of education  1000 non-null   object\n",
      " 3   lunch                        1000 non-null   object\n",
      " 4   test preparation course      1000 non-null   object\n",
      " 5   math score                   1000 non-null   int64 \n",
      " 6   reading score                1000 non-null   int64 \n",
      " 7   writing score                1000 non-null   int64 \n",
      "dtypes: int64(3), object(5)\n",
      "memory usage: 62.6+ KB\n",
      "None\n"
     ]
    }
   ],
   "source": [
    "data = pd.read_csv(\"StudentScore20523.xls\")\n",
    "print(data.info())"
   ]
  },
  {
   "cell_type": "code",
   "execution_count": 6,
   "metadata": {},
   "outputs": [
    {
     "data": {
      "image/png": "[encoded data removed]",
      "text/plain": [
       "<Figure size 640x480 with 1 Axes>"
      ]
     },
     "metadata": {},
     "output_type": "display_data"
    }
   ],
   "source": [
    "data = pd.read_csv(\"StudentScore20523.xls\")\n",
    "target = \"writing score\"\n",
    "sn.histplot(data[\"writing score\"])\n",
    "plt.title(\"Writing score distribution\")\n",
    "plt.savefig(\"WritingDistribution.png\")"
   ]
  },
  {
   "cell_type": "code",
   "execution_count": 7,
   "metadata": {},
   "outputs": [],
   "source": [
    "# Chia dữ liệu theo chiều dọc\n",
    "x = data.drop(target, axis = 1)\n",
    "y = data[target]\n",
    "# Chia dữ liệu theo chiều dọc\n",
    "x = data.drop(target, axis = 1)\n",
    "y = data[target]\n",
    "# Chia dữ liệu theo chiều ngang\n",
    "x_train, x_test, y_train, y_test = train_test_split(x, y, train_size=0.8, random_state=42)"
   ]
  },
  {
   "cell_type": "code",
   "execution_count": 7,
   "metadata": {},
   "outputs": [
    {
     "name": "stdout",
     "output_type": "stream",
     "text": [
      "['female' 'male']\n",
      "['group B' 'group C' 'group A' 'group D' 'group E']\n",
      "[\"bachelor's degree\" 'some college' \"master's degree\" \"associate's degree\"\n",
      " 'high school' 'some high school']\n",
      "['standard' 'free/reduced']\n",
      "['none' 'completed']\n"
     ]
    }
   ],
   "source": [
    "print(x[\"gender\"].unique())\n",
    "print(x[\"race/ethnicity\"].unique())\n",
    "print(x[\"parental level of education\"].unique())\n",
    "print(x[\"lunch\"].unique())\n",
    "print(x[\"test preparation course\"].unique())\n"
   ]
  },
  {
   "cell_type": "code",
   "execution_count": 10,
   "metadata": {},
   "outputs": [],
   "source": [
    "\n",
    "#Tích hợp bước kiểm tra dữ liệu bị khuyết + tiền xử lí\n",
    "num_transformer = Pipeline(steps=[\n",
    "    (\"imputer\", SimpleImputer(strategy=\"median\")),\n",
    "    (\"scaler\", StandardScaler())\n",
    "])\n",
    "\n",
    "education_values = [\"some high school\", \"high school\", \"some college\", \"associate's degree\", \"bachelor's degree\",\n",
    "                    \"master's degree\"]\n",
    "gender_values = [\"male\", \"female\"]\n",
    "lunch_values = x_train[\"lunch\"].unique()\n",
    "test_values = x_train[\"test preparation course\"].unique()\n",
    "ord_transformer = Pipeline(steps=[\n",
    "    (\"imputer\", SimpleImputer(strategy=\"constant\", fill_value=\"unknown\")),\n",
    "    (\"encoder\", OrdinalEncoder(categories=[education_values, gender_values, lunch_values, test_values]))\n",
    "])\n",
    "\n",
    "nom_transformer = Pipeline(steps=[\n",
    "    (\"imputer\", SimpleImputer(strategy=\"constant\", fill_value=\"unknown\")),\n",
    "    (\"encoder\", OneHotEncoder(sparse=False))\n",
    "])\n",
    "\n"
   ]
  },
  {
   "cell_type": "code",
   "execution_count": 11,
   "metadata": {},
   "outputs": [],
   "source": [
    "education_values = [\"some high school\", \"high school\", \"some college\", \"associate's degree\", \"bachelor's degree\",\n",
    "                    \"master's degree\"]\n",
    "gender_values = [\"male\", \"female\"]\n",
    "lunch_values = x_train[\"lunch\"].unique()\n",
    "test_values = x_train[\"test preparation course\"].unique()\n",
    "ord_transformer = Pipeline(steps=[\n",
    "    (\"imputer\", SimpleImputer(strategy=\"constant\", fill_value=\"unknown\")),\n",
    "    (\"encoder\", OrdinalEncoder(categories=[education_values, gender_values, lunch_values, test_values]))\n",
    "])\n",
    "\n"
   ]
  },
  {
   "cell_type": "code",
   "execution_count": 15,
   "metadata": {},
   "outputs": [],
   "source": [
    "nom_transformer = Pipeline(steps=[\n",
    "    (\"imputer\", SimpleImputer(strategy=\"constant\", fill_value=\"unknown\")),\n",
    "    (\"encoder\", OneHotEncoder(sparse=False))\n",
    "])\n",
    "result3 = nom_transformer.fit_transform(x_train[[\"race/ethnicity\"]])\n",
    "\n"
   ]
  },
  {
   "cell_type": "code",
   "execution_count": 11,
   "metadata": {},
   "outputs": [],
   "source": [
    "preprocessor = ColumnTransformer(transformers=[\n",
    "    (\"num_features\", num_transformer, [\"reading score\", \"writing score\"]),\n",
    "    (\"ordinal_features\", ord_transformer, [\"parental level of education\", \"gender\", \"lunch\", \"test preparation course\"]),\n",
    "    (\"nominal_features\", nom_transformer, [\"race/ethnicity\"]),\n",
    "])"
   ]
  },
  {
   "cell_type": "code",
   "execution_count": 12,
   "metadata": {},
   "outputs": [
    {
     "name": "stdout",
     "output_type": "stream",
     "text": [
      "MAE 4.537026785714286\n",
      "MSE 35.167383414328235\n",
      "R2 0.8554795157101048\n",
      "Fitting 6 folds for each of 20 candidates, totalling 120 fits\n",
      "0.8287644976793315\n",
      "{'regressor__n_estimators': 500, 'regressor__max_features': 'sqrt', 'regressor__max_depth': 10, 'regressor__criterion': 'squared_error', 'preprocessor__num_features__imputer__strategy': 'mean'}\n"
     ]
    }
   ],
   "source": [
    "reg = Pipeline(steps=[\n",
    "    (\"preprocessor\",preprocessor),\n",
    "    (\"regressor\",RandomForestRegressor())\n",
    "])\n",
    "parameters = {\n",
    "    \"regressor__n_estimators\": [50, 100, 200, 500],\n",
    "    \"regressor__criterion\": [\"squared_error\", \"absolute_error\", \"poisson\"],\n",
    "    \"regressor__max_depth\": [None, 5, 10, 20],\n",
    "    \"regressor__max_features\": [\"sqrt\", \"log2\"],\n",
    "    \"preprocessor__num_features__imputer__strategy\": [\"mean\", \"median\"],\n",
    "}\n",
    "reg.fit(x_train,y_train)\n",
    "y_predict = reg.predict(x_test)\n",
    "print(\"MAE {}\".format(mean_absolute_error(y_test,y_predict)))\n",
    "print(\"MSE {}\".format((mean_squared_error(y_test,y_predict))))\n",
    "print(\"R2 {}\".format((r2_score(y_test,y_predict))))\n",
    "\n",
    "# model = GridSearchCV(reg, param_grid=parameters, scoring=\"r2\", cv=6, verbose=2, n_jobs=8)\n",
    "model = RandomizedSearchCV(reg, param_distributions=parameters, scoring=\"r2\", cv=6, verbose=1, n_iter=20, n_jobs=8)\n",
    "model.fit(x_train, y_train)\n",
    "print(model.best_score_)\n",
    "print(model.best_params_)"
   ]
  },
  {
   "cell_type": "code",
   "execution_count": 17,
   "metadata": {},
   "outputs": [
    {
     "name": "stdout",
     "output_type": "stream",
     "text": [
      "MAE 5.601828693469095\n",
      "MSE 63.028441403745\n",
      "R2 0.7409844011313258\n",
      "Fitting 6 folds for each of 20 candidates, totalling 120 fits\n",
      "0.8623705422518152\n",
      "{'regressor__kernel': 'linear', 'regressor__gamma': 'scale', 'regressor__degree': 4, 'preprocessor__num_features__imputer__strategy': 'mean'}\n"
     ]
    }
   ],
   "source": [
    "reg1 = Pipeline(steps=[\n",
    "    (\"preprocessor\", preprocessor),\n",
    "    (\"regressor\", SVR()),   ##Linear Regression ; SVR ; KNeighborsRegressor\n",
    "])\n",
    "parameters = {\n",
    "     \"regressor__kernel\": [\"linear\",\"poly\",\"rbf\",\"sigmoid\"],\n",
    "     \"regressor__degree\": [3,4],\n",
    "     \"regressor__gamma\": [\"scale\",\"auto\"],\n",
    "     \"preprocessor__num_features__imputer__strategy\": [\"mean\", \"median\"],\n",
    "}\n",
    "reg1.fit(x_train,y_train)\n",
    "y_predict1 = reg1.predict(x_test)\n",
    "print(\"MAE {}\".format(mean_absolute_error(y_test,y_predict1)))\n",
    "print(\"MSE {}\".format((mean_squared_error(y_test,y_predict1))))\n",
    "print(\"R2 {}\".format((r2_score(y_test,y_predict1))))\n",
    "model2 = RandomizedSearchCV(reg1, param_distributions=parameters, scoring=\"r2\", cv=6, verbose=1, n_iter=20, n_jobs=8)\n",
    "model2.fit(x_train, y_train)\n",
    "print(model2.best_score_)\n",
    "print(model2.best_params_)\n"
   ]
  },
  {
   "cell_type": "code",
   "execution_count": 18,
   "metadata": {},
   "outputs": [
    {
     "name": "stdout",
     "output_type": "stream",
     "text": [
      "MAE 4.181966418321512\n",
      "MSE 28.821056563832887\n",
      "R2 0.8815597679452446\n"
     ]
    }
   ],
   "source": [
    "reg2 = Pipeline(steps=[\n",
    "    (\"preprocessor\", preprocessor),\n",
    "    (\"regressor\", LinearRegression()),   ##Linear Regression ; SVR ; KNeighborsRegressor\n",
    "])\n",
    "reg2.fit(x_train,y_train)\n",
    "y_predict2 = reg2.predict(x_test)\n",
    "print(\"MAE {}\".format(mean_absolute_error(y_test,y_predict2)))\n",
    "print(\"MSE {}\".format((mean_squared_error(y_test,y_predict2))))\n",
    "print(\"R2 {}\".format((r2_score(y_test,y_predict2))))\n"
   ]
  },
  {
   "cell_type": "code",
   "execution_count": 19,
   "metadata": {},
   "outputs": [
    {
     "name": "stdout",
     "output_type": "stream",
     "text": [
      "MAE 5.797000000000001\n",
      "MSE 55.3242\n",
      "R2 0.7726450079395607\n",
      "Fitting 6 folds for each of 20 candidates, totalling 120 fits\n",
      "0.7652736115072596\n",
      "{'regressor__n_neighbors': 5, 'regressor__leaf_size': 30, 'regressor__algorithm': 'brute', 'preprocessor__num_features__imputer__strategy': 'median'}\n"
     ]
    }
   ],
   "source": [
    "reg3 = Pipeline(steps=[\n",
    "    (\"preprocessor\", preprocessor),\n",
    "    (\"regressor\", KNeighborsRegressor()),   ##Linear Regression ; SVR ; KNeighborsRegressor\n",
    "])\n",
    "parameters = {\n",
    "     \"regressor__n_neighbors\": [5,6],\n",
    "     \"regressor__algorithm\": [\"auto\",\"ball_tree\",\"kd_tree\",\"brute\"],\n",
    "     \"regressor__leaf_size\": [30,60],\n",
    "     \"preprocessor__num_features__imputer__strategy\": [\"mean\", \"median\"],\n",
    " }\n",
    "reg3.fit(x_train,y_train)\n",
    "y_predict3 = reg3.predict(x_test)\n",
    "print(\"MAE {}\".format(mean_absolute_error(y_test,y_predict3)))\n",
    "print(\"MSE {}\".format((mean_squared_error(y_test,y_predict3))))\n",
    "print(\"R2 {}\".format((r2_score(y_test,y_predict3))))\n",
    "model3 = RandomizedSearchCV(reg3, param_distributions=parameters, scoring=\"r2\", cv=6, verbose=1, n_iter=20, n_jobs=8)\n",
    "model3.fit(x_train, y_train)\n",
    "print(model3.best_score_)\n",
    "print(model3.best_params_)"
   ]
  }
 ],
 "metadata": {
  "kernelspec": {
   "display_name": "Python 3",
   "language": "python",
   "name": "python3"
  },
  "language_info": {
   "codemirror_mode": {
    "name": "ipython",
    "version": 3
   },
   "file_extension": ".py",
   "mimetype": "text/x-python",
   "name": "python",
   "nbconvert_exporter": "python",
   "pygments_lexer": "ipython3",
   "version": "3.11.1"
  },
  "orig_nbformat": 4
 },
 "nbformat": 4,
 "nbformat_minor": 2
}
